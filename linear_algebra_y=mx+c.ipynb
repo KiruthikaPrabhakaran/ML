{
  "nbformat": 4,
  "nbformat_minor": 0,
  "metadata": {
    "colab": {
      "provenance": [],
      "authorship_tag": "ABX9TyPLobq2GOHRfVp9Wzwlj8TS",
      "include_colab_link": true
    },
    "kernelspec": {
      "name": "python3",
      "display_name": "Python 3"
    },
    "language_info": {
      "name": "python"
    }
  },
  "cells": [
    {
      "cell_type": "markdown",
      "metadata": {
        "id": "view-in-github",
        "colab_type": "text"
      },
      "source": [
        "<a href=\"https://colab.research.google.com/github/KiruthikaPrabhakaran/ML/blob/main/linear_algebra_y%3Dmx%2Bc.ipynb\" target=\"_parent\"><img src=\"https://colab.research.google.com/assets/colab-badge.svg\" alt=\"Open In Colab\"/></a>"
      ]
    },
    {
      "cell_type": "code",
      "execution_count": 3,
      "metadata": {
        "colab": {
          "base_uri": "https://localhost:8080/"
        },
        "id": "vhRiKYGJH_Sz",
        "outputId": "a3039981-994d-4616-9954-4c646f7b0957"
      },
      "outputs": [
        {
          "output_type": "stream",
          "name": "stdout",
          "text": [
            "Intersection point (x, y): (1.9999999999999978, array([7., 9.]))\n"
          ]
        }
      ],
      "source": [
        "import numpy as np\n",
        "\n",
        "def solve_linear_equation(m, c, points):\n",
        "    \"\"\"\n",
        "    Solves a system of linear equations y = mx + c for given points.\n",
        "\n",
        "    Args:\n",
        "    - m: Slope of the line\n",
        "    - c: Y-intercept of the line\n",
        "    - points: List of (x, y) coordinates\n",
        "\n",
        "    Returns:\n",
        "    - x: The x-coordinate of the intersection point (if exists)\n",
        "    - y: The y-coordinate of the intersection point (if exists)\n",
        "    \"\"\"\n",
        "    A = np.array([[p[0], 1] for p in points])\n",
        "    b = np.array([p[1] for p in points])\n",
        "    x, _, _, _ = np.linalg.lstsq(A, b, rcond=None)\n",
        "    y = m * x + c\n",
        "\n",
        "    return x[0], y\n",
        "\n",
        "\n",
        "m = 2\n",
        "c = 3\n",
        "points = [(1, 5), (2, 7), (3, 9)]\n",
        "\n",
        "x, y = solve_linear_equation(m, c, points)\n",
        "print(\"Intersection point (x, y):\", (x, y))\n"
      ]
    }
  ]
}