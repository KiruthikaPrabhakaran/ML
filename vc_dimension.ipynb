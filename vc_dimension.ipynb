{
  "nbformat": 4,
  "nbformat_minor": 0,
  "metadata": {
    "colab": {
      "provenance": [],
      "authorship_tag": "ABX9TyPGqcbVVc2Jm4mEmNqo4daF",
      "include_colab_link": true
    },
    "kernelspec": {
      "name": "python3",
      "display_name": "Python 3"
    },
    "language_info": {
      "name": "python"
    }
  },
  "cells": [
    {
      "cell_type": "markdown",
      "metadata": {
        "id": "view-in-github",
        "colab_type": "text"
      },
      "source": [
        "<a href=\"https://colab.research.google.com/github/KiruthikaPrabhakaran/ML/blob/main/vc_dimension.ipynb\" target=\"_parent\"><img src=\"https://colab.research.google.com/assets/colab-badge.svg\" alt=\"Open In Colab\"/></a>"
      ]
    },
    {
      "cell_type": "code",
      "execution_count": 1,
      "metadata": {
        "colab": {
          "base_uri": "https://localhost:8080/"
        },
        "id": "4EZrLDaDCgjs",
        "outputId": "4d8f3e24-f8d8-4611-ec00-75f9c161cce0"
      },
      "outputs": [
        {
          "output_type": "stream",
          "name": "stdout",
          "text": [
            "VC Dimension: 1\n"
          ]
        }
      ],
      "source": [
        "import numpy as np\n",
        "\n",
        "def VC_dimension(data, target):\n",
        "\n",
        "    sorted_indices = np.argsort(data)\n",
        "    sorted_data = data[sorted_indices]\n",
        "    sorted_target = target[sorted_indices]\n",
        "\n",
        "    n = len(data)\n",
        "    vc_dimension = 0\n",
        "\n",
        "    for i in range(n):\n",
        "\n",
        "        left_zeros = np.count_nonzero(sorted_target[:i] == 0)\n",
        "        right_ones = np.count_nonzero(sorted_target[i:] == 1)\n",
        "\n",
        "\n",
        "        if left_zeros == i and right_ones == (n - i):\n",
        "            vc_dimension += 1\n",
        "\n",
        "    return vc_dimension\n",
        "\n",
        "data = np.array([1, 2, 3, 4, 5])\n",
        "target = np.array([0, 0, 1, 1, 1])\n",
        "print(\"VC Dimension:\", VC_dimension(data, target))\n"
      ]
    }
  ]
}